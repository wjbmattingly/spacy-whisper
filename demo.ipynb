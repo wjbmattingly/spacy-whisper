{
 "cells": [
  {
   "cell_type": "code",
   "execution_count": 1,
   "metadata": {},
   "outputs": [],
   "source": [
    "from spacy_whisper import SpacyWhisper\n",
    "import json"
   ]
  },
  {
   "cell_type": "code",
   "execution_count": 2,
   "metadata": {},
   "outputs": [],
   "source": [
    "with open(\"whisper_output.json\", \"r\", encoding=\"utf-8\") as f:\n",
    "    data = json.load(f)"
   ]
  },
  {
   "cell_type": "code",
   "execution_count": 3,
   "metadata": {},
   "outputs": [],
   "source": [
    "sw = SpacyWhisper(lang=\"en\", model=\"en_core_web_sm\")\n",
    "doc = sw.create_doc(data)"
   ]
  },
  {
   "cell_type": "code",
   "execution_count": 12,
   "metadata": {},
   "outputs": [
    {
     "name": "stdout",
     "output_type": "stream",
     "text": [
      "[00:00:00:00] One of the most useful things you can learn as an intermediate Python student is comprehension.\n",
      "[00:00:40:72] List comprehension looks something like this.\n",
      "[00:00:70:00] Imagine we had a list of names, Tom, Cat, and Bob.\n",
      "[00:00:90:72] And I imagine we wanted to grab just the first letter of each of these names.\n",
      "[00:00:13:18] We can do so with list comprehension.\n",
      "[00:00:15:46] Believe it or not, this code is identical to the result that you would get from this code here.\n",
      "[00:00:20:50] Let's break down list comprehension step by step.\n",
      "[00:00:23:10] First, we have our list of names, Tom, Bob, and Cat.\n",
      "[00:00:25:92] Now we're going to use list comprehension.\n",
      "[00:00:27:54] In this case, we're creating an object called L, and it's going to grab the first letter of each of these names.\n",
      "[00:00:33:82] First, we create our object L.\n",
      "[00:00:35:76] This is where we're going to start creating a list that's going to be populated by our comprehension.\n",
      "[00:00:40:56] The comprehension segment comes right here.\n",
      "[00:00:43:04] First, we open up a list just as we normally would.\n",
      "[00:00:46:24] Next, we're going to grab the first index for each thing that we're going to iterate over, in this case N.\n",
      "[00:00:51:72] And then the second component of list comprehension is a standard for loop.\n",
      "[00:00:55:02] And if you print this off, we get the exact result that we would expect.\n",
      "[00:00:58:24] The first letter of each name.\n",
      "\n"
     ]
    }
   ],
   "source": [
    "print(doc._.timestamp_doc)"
   ]
  },
  {
   "cell_type": "code",
   "execution_count": 14,
   "metadata": {},
   "outputs": [
    {
     "name": "stdout",
     "output_type": "stream",
     "text": [
      "None\n",
      "None\n",
      "None\n",
      "None\n",
      "None\n",
      "None\n",
      "None\n",
      "None\n",
      "None\n",
      "None\n",
      "None\n",
      "None\n",
      "None\n",
      "None\n",
      "None\n"
     ]
    }
   ],
   "source": [
    "for ent in doc.ents:\n",
    "    print(ent._.start_time)"
   ]
  },
  {
   "cell_type": "code",
   "execution_count": null,
   "metadata": {},
   "outputs": [],
   "source": [
    "oss capital - Heather Meeker"
   ]
  }
 ],
 "metadata": {
  "kernelspec": {
   "display_name": "ushmm",
   "language": "python",
   "name": "python3"
  },
  "language_info": {
   "codemirror_mode": {
    "name": "ipython",
    "version": 3
   },
   "file_extension": ".py",
   "mimetype": "text/x-python",
   "name": "python",
   "nbconvert_exporter": "python",
   "pygments_lexer": "ipython3",
   "version": "3.10.13"
  }
 },
 "nbformat": 4,
 "nbformat_minor": 2
}
